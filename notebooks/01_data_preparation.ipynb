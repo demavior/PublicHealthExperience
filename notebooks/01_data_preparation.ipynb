{
 "cells": [
  {
   "cell_type": "markdown",
   "metadata": {},
   "source": [
    "# Patient Satisfaction"
   ]
  },
  {
   "cell_type": "markdown",
   "metadata": {},
   "source": [
    "## Import Libraries and Datasets"
   ]
  },
  {
   "cell_type": "code",
   "execution_count": 1,
   "metadata": {},
   "outputs": [],
   "source": [
    "# Import functions from the script\n",
    "from scripts.load_data import load_hospital_data, load_state_region_data\n",
    "from scripts.save_data import save_to_csv\n",
    "from scripts.clean_data import clean_pivot_data, exclude_nulls\n",
    "from scripts.merge_data import merge_state_region_data\n",
    "from scripts.transform_data import update_measure_id, add_answer_column, pivot_data, reduce_columns, rename_features\n",
    "from scripts.calculate_data import calculate_linear_scores"
   ]
  },
  {
   "cell_type": "code",
   "execution_count": 2,
   "metadata": {},
   "outputs": [
    {
     "name": "stdout",
     "output_type": "stream",
     "text": [
      "Dataset for 2023, number of rows and columns: \n",
      "(447516, 23)\n",
      "\n",
      "First 5 rows: \n",
      "  Facility ID                    Facility Name                 Address  \\\n",
      "0      010001  SOUTHEAST HEALTH MEDICAL CENTER  1108 ROSS CLARK CIRCLE   \n",
      "1      010001  SOUTHEAST HEALTH MEDICAL CENTER  1108 ROSS CLARK CIRCLE   \n",
      "2      010001  SOUTHEAST HEALTH MEDICAL CENTER  1108 ROSS CLARK CIRCLE   \n",
      "3      010001  SOUTHEAST HEALTH MEDICAL CENTER  1108 ROSS CLARK CIRCLE   \n",
      "4      010001  SOUTHEAST HEALTH MEDICAL CENTER  1108 ROSS CLARK CIRCLE   \n",
      "\n",
      "  City/Town State ZIP Code County/Parish Telephone Number  \\\n",
      "0    DOTHAN    AL    36301       HOUSTON   (334) 793-8701   \n",
      "1    DOTHAN    AL    36301       HOUSTON   (334) 793-8701   \n",
      "2    DOTHAN    AL    36301       HOUSTON   (334) 793-8701   \n",
      "3    DOTHAN    AL    36301       HOUSTON   (334) 793-8701   \n",
      "4    DOTHAN    AL    36301       HOUSTON   (334) 793-8701   \n",
      "\n",
      "       HCAHPS Measure ID                                    HCAHPS Question  \\\n",
      "0           H_COMP_1_A_P  Patients who reported that their nurses \"Alway...   \n",
      "1          H_COMP_1_SN_P  Patients who reported that their nurses \"Somet...   \n",
      "2           H_COMP_1_U_P  Patients who reported that their nurses \"Usual...   \n",
      "3  H_COMP_1_LINEAR_SCORE            Nurse communication - linear mean score   \n",
      "4   H_COMP_1_STAR_RATING                  Nurse communication - star rating   \n",
      "\n",
      "   ... HCAHPS Answer Percent HCAHPS Answer Percent Footnote  \\\n",
      "0  ...                    74                            NaN   \n",
      "1  ...                     8                            NaN   \n",
      "2  ...                    18                            NaN   \n",
      "3  ...        Not Applicable                            NaN   \n",
      "4  ...        Not Applicable                            NaN   \n",
      "\n",
      "  HCAHPS Linear Mean Value Number of Completed Surveys  \\\n",
      "0           Not Applicable                         544   \n",
      "1           Not Applicable                         544   \n",
      "2           Not Applicable                         544   \n",
      "3                       89                         544   \n",
      "4           Not Applicable                         544   \n",
      "\n",
      "  Number of Completed Surveys Footnote Survey Response Rate Percent  \\\n",
      "0                                  NaN                           15   \n",
      "1                                  NaN                           15   \n",
      "2                                  NaN                           15   \n",
      "3                                  NaN                           15   \n",
      "4                                  NaN                           15   \n",
      "\n",
      "  Survey Response Rate Percent Footnote  Start Date    End Date  Year  \n",
      "0                                   NaN  04/01/2022  03/31/2023  2023  \n",
      "1                                   NaN  04/01/2022  03/31/2023  2023  \n",
      "2                                   NaN  04/01/2022  03/31/2023  2023  \n",
      "3                                   NaN  04/01/2022  03/31/2023  2023  \n",
      "4                                   NaN  04/01/2022  03/31/2023  2023  \n",
      "\n",
      "[5 rows x 23 columns]\n",
      "\n"
     ]
    }
   ],
   "source": [
    "# Load the data\n",
    "df = load_hospital_data(\"../data/raw/HCAHPS-Hospital.csv\")\n",
    "\n",
    "# Get the number of rows and columns\n",
    "print('Dataset for 2023, number of rows and columns: ')\n",
    "print(df.shape)\n",
    "print('')\n",
    "\n",
    "# Get the first 5 rows\n",
    "print('First 5 rows: ')\n",
    "print(df.head())\n",
    "print('')"
   ]
  },
  {
   "cell_type": "markdown",
   "metadata": {},
   "source": [
    "## Data Preparation"
   ]
  },
  {
   "cell_type": "markdown",
   "metadata": {},
   "source": [
    "### Update Measure IDs"
   ]
  },
  {
   "cell_type": "code",
   "execution_count": 3,
   "metadata": {},
   "outputs": [
    {
     "name": "stdout",
     "output_type": "stream",
     "text": [
      "First 5 rows after updating Measure Id: \n",
      "  Facility ID                    Facility Name                 Address  \\\n",
      "0      010001  SOUTHEAST HEALTH MEDICAL CENTER  1108 ROSS CLARK CIRCLE   \n",
      "1      010001  SOUTHEAST HEALTH MEDICAL CENTER  1108 ROSS CLARK CIRCLE   \n",
      "2      010001  SOUTHEAST HEALTH MEDICAL CENTER  1108 ROSS CLARK CIRCLE   \n",
      "3      010001  SOUTHEAST HEALTH MEDICAL CENTER  1108 ROSS CLARK CIRCLE   \n",
      "4      010001  SOUTHEAST HEALTH MEDICAL CENTER  1108 ROSS CLARK CIRCLE   \n",
      "\n",
      "  City/Town State ZIP Code County/Parish Telephone Number  \\\n",
      "0    DOTHAN    AL    36301       HOUSTON   (334) 793-8701   \n",
      "1    DOTHAN    AL    36301       HOUSTON   (334) 793-8701   \n",
      "2    DOTHAN    AL    36301       HOUSTON   (334) 793-8701   \n",
      "3    DOTHAN    AL    36301       HOUSTON   (334) 793-8701   \n",
      "4    DOTHAN    AL    36301       HOUSTON   (334) 793-8701   \n",
      "\n",
      "         HCAHPS Measure ID                                    HCAHPS Question  \\\n",
      "0           NURSE_COMM_A_P  Patients who reported that their nurses \"Alway...   \n",
      "1          NURSE_COMM_SN_P  Patients who reported that their nurses \"Somet...   \n",
      "2           NURSE_COMM_U_P  Patients who reported that their nurses \"Usual...   \n",
      "3  NURSE_COMM_LINEAR_SCORE            Nurse communication - linear mean score   \n",
      "4   NURSE_COMM_STAR_RATING                  Nurse communication - star rating   \n",
      "\n",
      "   ... HCAHPS Answer Percent HCAHPS Answer Percent Footnote  \\\n",
      "0  ...                    74                            NaN   \n",
      "1  ...                     8                            NaN   \n",
      "2  ...                    18                            NaN   \n",
      "3  ...        Not Applicable                            NaN   \n",
      "4  ...        Not Applicable                            NaN   \n",
      "\n",
      "  HCAHPS Linear Mean Value Number of Completed Surveys  \\\n",
      "0           Not Applicable                         544   \n",
      "1           Not Applicable                         544   \n",
      "2           Not Applicable                         544   \n",
      "3                       89                         544   \n",
      "4           Not Applicable                         544   \n",
      "\n",
      "  Number of Completed Surveys Footnote Survey Response Rate Percent  \\\n",
      "0                                  NaN                           15   \n",
      "1                                  NaN                           15   \n",
      "2                                  NaN                           15   \n",
      "3                                  NaN                           15   \n",
      "4                                  NaN                           15   \n",
      "\n",
      "  Survey Response Rate Percent Footnote  Start Date    End Date  Year  \n",
      "0                                   NaN  04/01/2022  03/31/2023  2023  \n",
      "1                                   NaN  04/01/2022  03/31/2023  2023  \n",
      "2                                   NaN  04/01/2022  03/31/2023  2023  \n",
      "3                                   NaN  04/01/2022  03/31/2023  2023  \n",
      "4                                   NaN  04/01/2022  03/31/2023  2023  \n",
      "\n",
      "[5 rows x 23 columns]\n",
      "\n"
     ]
    }
   ],
   "source": [
    "# Update Measure Id values\n",
    "df = update_measure_id(df)\n",
    "\n",
    "# Verify first 5 rows after renaming columns\n",
    "print('First 5 rows after updating Measure Id: ')\n",
    "print(df.head())\n",
    "print('')"
   ]
  },
  {
   "cell_type": "markdown",
   "metadata": {},
   "source": [
    "### Add \"HCAHPS Answer\" Column"
   ]
  },
  {
   "cell_type": "code",
   "execution_count": 4,
   "metadata": {},
   "outputs": [
    {
     "name": "stdout",
     "output_type": "stream",
     "text": [
      "Columns in df after creating \"HCAHPS Answer\" column: \n",
      "Index(['Facility ID', 'Facility Name', 'Address', 'City/Town', 'State',\n",
      "       'ZIP Code', 'County/Parish', 'Telephone Number', 'HCAHPS Measure ID',\n",
      "       'HCAHPS Question', 'HCAHPS Answer Description',\n",
      "       'Patient Survey Star Rating', 'Patient Survey Star Rating Footnote',\n",
      "       'HCAHPS Answer Percent', 'HCAHPS Answer Percent Footnote',\n",
      "       'HCAHPS Linear Mean Value', 'Number of Completed Surveys',\n",
      "       'Number of Completed Surveys Footnote', 'Survey Response Rate Percent',\n",
      "       'Survey Response Rate Percent Footnote', 'Start Date', 'End Date',\n",
      "       'Year', 'HCAHPS Answer'],\n",
      "      dtype='object')\n",
      "\n"
     ]
    }
   ],
   "source": [
    "# Create 'HCAHPS Answer' column\n",
    "df = add_answer_column(df)\n",
    "\n",
    "# Verify columns in df after creating 'HCAHPS Answer' column\n",
    "print('Columns in df after creating \"HCAHPS Answer\" column: ')\n",
    "print(df.columns)\n",
    "print('')"
   ]
  },
  {
   "cell_type": "markdown",
   "metadata": {},
   "source": [
    "### Generate Pivot Table"
   ]
  },
  {
   "cell_type": "code",
   "execution_count": 5,
   "metadata": {},
   "outputs": [],
   "source": [
    "# Pivot the data\n",
    "pivot_df = pivot_data(df)"
   ]
  },
  {
   "cell_type": "code",
   "execution_count": 6,
   "metadata": {},
   "outputs": [
    {
     "name": "stdout",
     "output_type": "stream",
     "text": [
      "Columns in pivot_df after pivoting the data: \n",
      "Index(['Facility ID', 'Facility Name', 'Address', 'City/Town', 'State',\n",
      "       'ZIP Code', 'County/Parish', 'Telephone Number',\n",
      "       'Number of Completed Surveys', 'Survey Response Rate Percent',\n",
      "       ...\n",
      "       'H_HSP_RATING_7_8', 'H_HSP_RATING_9_10', 'H_HSP_RATING_LINEAR_SCORE',\n",
      "       'H_HSP_RATING_STAR_RATING', 'H_RECMND_DN', 'H_RECMND_DY', 'H_RECMND_PY',\n",
      "       'H_RECMND_LINEAR_SCORE', 'H_RECMND_STAR_RATING', 'H_STAR_RATING'],\n",
      "      dtype='object', name='HCAHPS Measure ID', length=104)\n",
      "\n"
     ]
    }
   ],
   "source": [
    "# Verify columns in pivot_df after pivoting the data\n",
    "print('Columns in pivot_df after pivoting the data: ')\n",
    "print(pivot_df.columns)\n",
    "print('')"
   ]
  },
  {
   "cell_type": "markdown",
   "metadata": {},
   "source": [
    "### Convert to Numeric Values"
   ]
  },
  {
   "cell_type": "code",
   "execution_count": 7,
   "metadata": {},
   "outputs": [
    {
     "name": "stdout",
     "output_type": "stream",
     "text": [
      "Columns in pivot_df after cleaning the data: \n",
      "<class 'pandas.core.frame.DataFrame'>\n",
      "RangeIndex: 4812 entries, 0 to 4811\n",
      "Data columns (total 104 columns):\n",
      " #    Column                        Dtype \n",
      "---   ------                        ----- \n",
      " 0    Facility ID                   object\n",
      " 1    Facility Name                 object\n",
      " 2    Address                       object\n",
      " 3    City/Town                     object\n",
      " 4    State                         object\n",
      " 5    ZIP Code                      object\n",
      " 6    County/Parish                 object\n",
      " 7    Telephone Number              object\n",
      " 8    Number of Completed Surveys   Int64 \n",
      " 9    Survey Response Rate Percent  Int64 \n",
      " 10   Year                          Int64 \n",
      " 11   NURSE_COMM_A_P                Int64 \n",
      " 12   NURSE_COMM_SN_P               Int64 \n",
      " 13   NURSE_COMM_U_P                Int64 \n",
      " 14   NURSE_COMM_LINEAR_SCORE       Int64 \n",
      " 15   NURSE_COMM_STAR_RATING        Int64 \n",
      " 16   H_NURSE_RESPECT_A_P           Int64 \n",
      " 17   H_NURSE_RESPECT_SN_P          Int64 \n",
      " 18   H_NURSE_RESPECT_U_P           Int64 \n",
      " 19   H_NURSE_LISTEN_A_P            Int64 \n",
      " 20   H_NURSE_LISTEN_SN_P           Int64 \n",
      " 21   H_NURSE_LISTEN_U_P            Int64 \n",
      " 22   H_NURSE_EXPLAIN_A_P           Int64 \n",
      " 23   H_NURSE_EXPLAIN_SN_P          Int64 \n",
      " 24   H_NURSE_EXPLAIN_U_P           Int64 \n",
      " 25   DOCTOR_COMM_A_P               Int64 \n",
      " 26   DOCTOR_COMM_SN_P              Int64 \n",
      " 27   DOCTOR_COMM_U_P               Int64 \n",
      " 28   DOCTOR_COMM_LINEAR_SCORE      Int64 \n",
      " 29   DOCTOR_COMM_STAR_RATING       Int64 \n",
      " 30   H_DOCTOR_RESPECT_A_P          Int64 \n",
      " 31   H_DOCTOR_RESPECT_SN_P         Int64 \n",
      " 32   H_DOCTOR_RESPECT_U_P          Int64 \n",
      " 33   H_DOCTOR_LISTEN_A_P           Int64 \n",
      " 34   H_DOCTOR_LISTEN_SN_P          Int64 \n",
      " 35   H_DOCTOR_LISTEN_U_P           Int64 \n",
      " 36   H_DOCTOR_EXPLAIN_A_P          Int64 \n",
      " 37   H_DOCTOR_EXPLAIN_SN_P         Int64 \n",
      " 38   H_DOCTOR_EXPLAIN_U_P          Int64 \n",
      " 39   STAFF_RESPON_A_P              Int64 \n",
      " 40   STAFF_RESPON_SN_P             Int64 \n",
      " 41   STAFF_RESPON_U_P              Int64 \n",
      " 42   STAFF_RESPON_LINEAR_SCORE     Int64 \n",
      " 43   STAFF_RESPON_STAR_RATING      Int64 \n",
      " 44   H_CALL_BUTTON_A_P             Int64 \n",
      " 45   H_CALL_BUTTON_SN_P            Int64 \n",
      " 46   H_CALL_BUTTON_U_P             Int64 \n",
      " 47   H_BATH_HELP_A_P               Int64 \n",
      " 48   H_BATH_HELP_SN_P              Int64 \n",
      " 49   H_BATH_HELP_U_P               Int64 \n",
      " 50   MEDICINE_A_P                  Int64 \n",
      " 51   MEDICINE_SN_P                 Int64 \n",
      " 52   MEDICINE_U_P                  Int64 \n",
      " 53   MEDICINE_LINEAR_SCORE         Int64 \n",
      " 54   MEDICINE_STAR_RATING          Int64 \n",
      " 55   H_MED_FOR_A_P                 Int64 \n",
      " 56   H_MED_FOR_SN_P                Int64 \n",
      " 57   H_MED_FOR_U_P                 Int64 \n",
      " 58   H_SIDE_EFFECTS_A_P            Int64 \n",
      " 59   H_SIDE_EFFECTS_SN_P           Int64 \n",
      " 60   H_SIDE_EFFECTS_U_P            Int64 \n",
      " 61   DISCHARGE_INFO_N_P            Int64 \n",
      " 62   DISCHARGE_INFO_Y_P            Int64 \n",
      " 63   DISCHARGE_INFO_LINEAR_SCORE   Int64 \n",
      " 64   DISCHARGE_INFO_STAR_RATING    Int64 \n",
      " 65   H_DISCH_HELP_N_P              Int64 \n",
      " 66   H_DISCH_HELP_Y_P              Int64 \n",
      " 67   H_SYMPTOMS_N_P                Int64 \n",
      " 68   H_SYMPTOMS_Y_P                Int64 \n",
      " 69   CARE_TRANSIT_A                Int64 \n",
      " 70   CARE_TRANSIT_D_SD             Int64 \n",
      " 71   CARE_TRANSIT_SA               Int64 \n",
      " 72   CARE_TRANSIT_LINEAR_SCORE     Int64 \n",
      " 73   CARE_TRANSIT_STAR_RATING      Int64 \n",
      " 74   H_CT_PREFER_A                 Int64 \n",
      " 75   H_CT_PREFER_D_SD              Int64 \n",
      " 76   H_CT_PREFER_SA                Int64 \n",
      " 77   H_CT_UNDER_A                  Int64 \n",
      " 78   H_CT_UNDER_D_SD               Int64 \n",
      " 79   H_CT_UNDER_SA                 Int64 \n",
      " 80   H_CT_MED_A                    Int64 \n",
      " 81   H_CT_MED_D_SD                 Int64 \n",
      " 82   H_CT_MED_SA                   Int64 \n",
      " 83   H_CLEAN_A_P                   Int64 \n",
      " 84   H_CLEAN_SN_P                  Int64 \n",
      " 85   H_CLEAN_U_P                   Int64 \n",
      " 86   H_CLEAN_LINEAR_SCORE          Int64 \n",
      " 87   H_CLEAN_STAR_RATING           Int64 \n",
      " 88   H_QUIET_A_P                   Int64 \n",
      " 89   H_QUIET_SN_P                  Int64 \n",
      " 90   H_QUIET_U_P                   Int64 \n",
      " 91   H_QUIET_LINEAR_SCORE          Int64 \n",
      " 92   H_QUIET_STAR_RATING           Int64 \n",
      " 93   H_HSP_RATING_0_6              Int64 \n",
      " 94   H_HSP_RATING_7_8              Int64 \n",
      " 95   H_HSP_RATING_9_10             Int64 \n",
      " 96   H_HSP_RATING_LINEAR_SCORE     Int64 \n",
      " 97   H_HSP_RATING_STAR_RATING      Int64 \n",
      " 98   H_RECMND_DN                   Int64 \n",
      " 99   H_RECMND_DY                   Int64 \n",
      " 100  H_RECMND_PY                   Int64 \n",
      " 101  H_RECMND_LINEAR_SCORE         Int64 \n",
      " 102  H_RECMND_STAR_RATING          Int64 \n",
      " 103  H_STAR_RATING                 Int64 \n",
      "dtypes: Int64(96), object(8)\n",
      "memory usage: 4.3+ MB\n",
      "None\n"
     ]
    }
   ],
   "source": [
    "# Clean the data\n",
    "cleaned_pivot_df = clean_pivot_data(pivot_df)\n",
    "print('Columns in pivot_df after cleaning the data: ')\n",
    "print(cleaned_pivot_df.info(verbose=True))"
   ]
  },
  {
   "cell_type": "markdown",
   "metadata": {},
   "source": [
    "### Handle missing data"
   ]
  },
  {
   "cell_type": "code",
   "execution_count": 8,
   "metadata": {},
   "outputs": [
    {
     "name": "stdout",
     "output_type": "stream",
     "text": [
      "Number of hospitals in dataset: \n",
      "4812 \n",
      "\n",
      "Null values per columns: \n",
      "HCAHPS Measure ID\n",
      "Number of Completed Surveys      716\n",
      "Survey Response Rate Percent     716\n",
      "NURSE_COMM_A_P                   716\n",
      "NURSE_COMM_SN_P                  716\n",
      "NURSE_COMM_U_P                   716\n",
      "                                ... \n",
      "H_RECMND_DY                      716\n",
      "H_RECMND_PY                      716\n",
      "H_RECMND_LINEAR_SCORE           1554\n",
      "H_RECMND_STAR_RATING            1554\n",
      "H_STAR_RATING                   1554\n",
      "Length: 95, dtype: int64 \n",
      "\n",
      "Number of hospitals after excluding nulls: \n",
      "3751 \n",
      "\n",
      "Null values per columns after excluding nulls: \n",
      "HCAHPS Measure ID\n",
      "NURSE_COMM_LINEAR_SCORE        493\n",
      "NURSE_COMM_STAR_RATING         493\n",
      "DOCTOR_COMM_LINEAR_SCORE       493\n",
      "DOCTOR_COMM_STAR_RATING        493\n",
      "STAFF_RESPON_LINEAR_SCORE      493\n",
      "STAFF_RESPON_STAR_RATING       493\n",
      "MEDICINE_LINEAR_SCORE          493\n",
      "MEDICINE_STAR_RATING           493\n",
      "DISCHARGE_INFO_LINEAR_SCORE    493\n",
      "DISCHARGE_INFO_STAR_RATING     493\n",
      "CARE_TRANSIT_LINEAR_SCORE      493\n",
      "CARE_TRANSIT_STAR_RATING       493\n",
      "H_CLEAN_LINEAR_SCORE           493\n",
      "H_CLEAN_STAR_RATING            493\n",
      "H_QUIET_LINEAR_SCORE           493\n",
      "H_QUIET_STAR_RATING            493\n",
      "H_HSP_RATING_LINEAR_SCORE      493\n",
      "H_HSP_RATING_STAR_RATING       493\n",
      "H_RECMND_LINEAR_SCORE          493\n",
      "H_RECMND_STAR_RATING           493\n",
      "H_STAR_RATING                  493\n",
      "dtype: int64 \n",
      "\n"
     ]
    }
   ],
   "source": [
    "## Show Initial Information\n",
    "print(\"Number of hospitals in dataset: \")\n",
    "print(len(cleaned_pivot_df),\"\\n\")\n",
    "\n",
    "print(\"Null values per columns: \")\n",
    "print(cleaned_pivot_df.isnull().sum()[cleaned_pivot_df.isnull().sum() > 0],\"\\n\")\n",
    "\n",
    "# Exclude null values\n",
    "cleaned2_pivot_df = exclude_nulls(cleaned_pivot_df)\n",
    "\n",
    "## Show Information after excluding nulls\n",
    "print(\"Number of hospitals after excluding nulls: \")\n",
    "print(len(cleaned2_pivot_df),\"\\n\")\n",
    "\n",
    "print(\"Null values per columns after excluding nulls: \")\n",
    "print(cleaned2_pivot_df.isnull().sum()[cleaned2_pivot_df.isnull().sum() > 0],\"\\n\")"
   ]
  },
  {
   "cell_type": "code",
   "execution_count": 9,
   "metadata": {},
   "outputs": [
    {
     "name": "stdout",
     "output_type": "stream",
     "text": [
      "Actual_Score         84.96321\n",
      "Calculated_Score    84.953479\n",
      "Difference          -0.009731\n",
      "dtype: Float64\n",
      "Number of hospitals after Filling null values: \n",
      "3751 \n",
      "\n",
      "Null values per columns after Filling null values: \n",
      "HCAHPS Measure ID\n",
      "NURSE_COMM_STAR_RATING        493\n",
      "DOCTOR_COMM_STAR_RATING       493\n",
      "STAFF_RESPON_STAR_RATING      493\n",
      "MEDICINE_STAR_RATING          493\n",
      "DISCHARGE_INFO_STAR_RATING    493\n",
      "CARE_TRANSIT_STAR_RATING      493\n",
      "H_CLEAN_STAR_RATING           493\n",
      "H_QUIET_STAR_RATING           493\n",
      "H_HSP_RATING_STAR_RATING      493\n",
      "H_RECMND_STAR_RATING          493\n",
      "H_STAR_RATING                 493\n",
      "dtype: int64 \n",
      "\n"
     ]
    }
   ],
   "source": [
    "# Calculate linear scores and compare\n",
    "cleaned2_pivot_df = calculate_linear_scores(cleaned2_pivot_df)\n",
    "\n",
    "print(\"Number of hospitals after Filling null values: \")\n",
    "print(len(cleaned2_pivot_df),\"\\n\")\n",
    "\n",
    "print(\"Null values per columns after Filling null values: \")\n",
    "print(cleaned2_pivot_df.isnull().sum()[cleaned2_pivot_df.isnull().sum() > 0],\"\\n\")"
   ]
  },
  {
   "cell_type": "markdown",
   "metadata": {},
   "source": [
    "### Reduced pivot table"
   ]
  },
  {
   "cell_type": "code",
   "execution_count": 10,
   "metadata": {},
   "outputs": [
    {
     "name": "stdout",
     "output_type": "stream",
     "text": [
      "Null values per columns after droping non-necessary columns: \n",
      "Series([], dtype: int64) \n",
      "\n",
      "Reduced Dataframe Information: \n",
      "<class 'pandas.core.frame.DataFrame'>\n",
      "Index: 3751 entries, 0 to 4808\n",
      "Data columns (total 17 columns):\n",
      " #   Column                        Non-Null Count  Dtype \n",
      "---  ------                        --------------  ----- \n",
      " 0   Facility ID                   3751 non-null   object\n",
      " 1   Facility Name                 3751 non-null   object\n",
      " 2   City/Town                     3751 non-null   object\n",
      " 3   State                         3751 non-null   object\n",
      " 4   Number of Completed Surveys   3751 non-null   Int64 \n",
      " 5   Survey Response Rate Percent  3751 non-null   Int64 \n",
      " 6   Year                          3751 non-null   Int64 \n",
      " 7   NURSE_COMM                    3751 non-null   Int64 \n",
      " 8   DOCTOR_COMM                   3751 non-null   Int64 \n",
      " 9   STAFF_RESPON                  3751 non-null   Int64 \n",
      " 10  MEDICINE                      3751 non-null   Int64 \n",
      " 11  DISCHARGE_INFO                3751 non-null   Int64 \n",
      " 12  CARE_TRANSIT                  3751 non-null   Int64 \n",
      " 13  H_CLEAN                       3751 non-null   Int64 \n",
      " 14  H_QUIET                       3751 non-null   Int64 \n",
      " 15  H_HSP_RATING                  3751 non-null   Int64 \n",
      " 16  H_RECMND                      3751 non-null   Int64 \n",
      "dtypes: Int64(13), object(4)\n",
      "memory usage: 575.1+ KB\n",
      "None \n",
      "\n"
     ]
    }
   ],
   "source": [
    "# Reduce columns\n",
    "reduced_df = reduce_columns(cleaned2_pivot_df)\n",
    "\n",
    "print(\"Null values per columns after droping non-necessary columns: \")\n",
    "print(reduced_df.isnull().sum()[reduced_df.isnull().sum() > 0],\"\\n\")\n",
    "\n",
    "print(\"Reduced Dataframe Information: \")\n",
    "print(reduced_df.info(),\"\\n\")"
   ]
  },
  {
   "cell_type": "markdown",
   "metadata": {},
   "source": [
    "### Add Region Information"
   ]
  },
  {
   "cell_type": "code",
   "execution_count": 11,
   "metadata": {},
   "outputs": [],
   "source": [
    "# Load state region data\n",
    "state_region_df = load_state_region_data(\"../data/raw/states.csv\")\n",
    "\n",
    "# Merge state region data\n",
    "completed_df = merge_state_region_data(reduced_df, state_region_df)"
   ]
  },
  {
   "cell_type": "markdown",
   "metadata": {},
   "source": [
    "### Rename final Categories"
   ]
  },
  {
   "cell_type": "code",
   "execution_count": 12,
   "metadata": {},
   "outputs": [
    {
     "name": "stdout",
     "output_type": "stream",
     "text": [
      "Columns in completed_df after renaming columns: \n",
      "<class 'pandas.core.frame.DataFrame'>\n",
      "Index: 3751 entries, 0 to 4808\n",
      "Data columns (total 17 columns):\n",
      " #   Column                        Non-Null Count  Dtype \n",
      "---  ------                        --------------  ----- \n",
      " 0   Facility ID                   3751 non-null   object\n",
      " 1   Facility Name                 3751 non-null   object\n",
      " 2   City/Town                     3751 non-null   object\n",
      " 3   State                         3751 non-null   object\n",
      " 4   Number of Completed Surveys   3751 non-null   Int64 \n",
      " 5   Survey Response Rate Percent  3751 non-null   Int64 \n",
      " 6   Year                          3751 non-null   Int64 \n",
      " 7   NURSE_COMM                    3751 non-null   Int64 \n",
      " 8   DOCTOR_COMM                   3751 non-null   Int64 \n",
      " 9   STAFF_RESPON                  3751 non-null   Int64 \n",
      " 10  MEDICINE                      3751 non-null   Int64 \n",
      " 11  DISCHARGE_INFO                3751 non-null   Int64 \n",
      " 12  CARE_TRANSIT                  3751 non-null   Int64 \n",
      " 13  H_CLEAN                       3751 non-null   Int64 \n",
      " 14  H_QUIET                       3751 non-null   Int64 \n",
      " 15  H_HSP_RATING                  3751 non-null   Int64 \n",
      " 16  H_RECMND                      3751 non-null   Int64 \n",
      "dtypes: Int64(13), object(4)\n",
      "memory usage: 575.1+ KB\n",
      "None\n"
     ]
    }
   ],
   "source": [
    "# Rename columns to more descriptive names\n",
    "completed_df = rename_features(completed_df)\n",
    "\n",
    "print('Columns in completed_df after renaming columns: ')\n",
    "print(reduced_df.info())"
   ]
  },
  {
   "cell_type": "markdown",
   "metadata": {},
   "source": [
    "## Export Processed Data"
   ]
  },
  {
   "cell_type": "code",
   "execution_count": 15,
   "metadata": {},
   "outputs": [],
   "source": [
    "# Save the final DataFrame to a CSV file\n",
    "save_to_csv(completed_df, '../data/processed/completed_data.csv')"
   ]
  }
 ],
 "metadata": {
  "kernelspec": {
   "display_name": "venv",
   "language": "python",
   "name": "python3"
  },
  "language_info": {
   "codemirror_mode": {
    "name": "ipython",
    "version": 3
   },
   "file_extension": ".py",
   "mimetype": "text/x-python",
   "name": "python",
   "nbconvert_exporter": "python",
   "pygments_lexer": "ipython3",
   "version": "3.11.3"
  }
 },
 "nbformat": 4,
 "nbformat_minor": 2
}
